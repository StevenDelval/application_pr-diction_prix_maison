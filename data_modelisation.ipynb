{
 "cells": [
  {
   "cell_type": "code",
   "execution_count": 1,
   "metadata": {},
   "outputs": [],
   "source": [
    "import numpy as np\n",
    "import pandas as pd\n",
    "import matplotlib.pyplot as plt\n",
    "from sklearn.compose import make_column_selector, ColumnTransformer\n",
    "from sklearn.preprocessing import OneHotEncoder,StandardScaler,PolynomialFeatures\n",
    "from sklearn.linear_model import Ridge,LinearRegression\n",
    "from sklearn.pipeline import make_pipeline\n",
    "from sklearn.model_selection import train_test_split\n",
    "from sklearn.model_selection import GridSearchCV,learning_curve\n",
    "\n"
   ]
  },
  {
   "cell_type": "code",
   "execution_count": 2,
   "metadata": {},
   "outputs": [],
   "source": [
    "df = pd.read_csv(\"csv/df_preparation.csv\")"
   ]
  },
  {
   "cell_type": "markdown",
   "metadata": {},
   "source": [
    "# Division du dataset en features et target"
   ]
  },
  {
   "cell_type": "code",
   "execution_count": 3,
   "metadata": {},
   "outputs": [
    {
     "data": {
      "text/plain": [
       "Index(['bedrooms', 'bathrooms', 'sqft_living', 'sqft_living_carre', 'sqft_lot',\n",
       "       'floors', 'waterfront', 'view', 'condition', 'grade', 'sqft_above',\n",
       "       'sqft_above_carre', 'sqft_basement', 'sqft_basement_carre', 'zipcode',\n",
       "       'sqft_living15', 'sqft_lot15', 'month', 'price'],\n",
       "      dtype='object')"
      ]
     },
     "execution_count": 3,
     "metadata": {},
     "output_type": "execute_result"
    }
   ],
   "source": [
    "df.columns"
   ]
  },
  {
   "cell_type": "code",
   "execution_count": 4,
   "metadata": {},
   "outputs": [],
   "source": [
    "feature = df.columns[0:-1]\n",
    "target = 'price'\n",
    "X =df.drop([\"price\",\"month\"],axis=1)\n",
    "y = df[target]"
   ]
  },
  {
   "cell_type": "code",
   "execution_count": 5,
   "metadata": {},
   "outputs": [
    {
     "data": {
      "text/plain": [
       "Index(['bedrooms', 'bathrooms', 'sqft_living', 'sqft_living_carre', 'sqft_lot',\n",
       "       'floors', 'waterfront', 'view', 'condition', 'grade', 'sqft_above',\n",
       "       'sqft_above_carre', 'sqft_basement', 'sqft_basement_carre', 'zipcode',\n",
       "       'sqft_living15', 'sqft_lot15'],\n",
       "      dtype='object')"
      ]
     },
     "execution_count": 5,
     "metadata": {},
     "output_type": "execute_result"
    }
   ],
   "source": [
    "X.columns"
   ]
  },
  {
   "cell_type": "code",
   "execution_count": 6,
   "metadata": {},
   "outputs": [],
   "source": [
    "numerical_features = [\n",
    "       'bedrooms', 'bathrooms',\n",
    "       'sqft_living', 'sqft_living_carre', 'sqft_lot','sqft_above',\n",
    "       'sqft_basement','sqft_living15', 'sqft_lot15'\n",
    "       ]\n",
    "categorical_features = [\n",
    "       \n",
    "       'floors','waterfront','view', 'condition', 'grade','zipcode'\n",
    "       ]"
   ]
  },
  {
   "cell_type": "code",
   "execution_count": 7,
   "metadata": {},
   "outputs": [],
   "source": [
    "my_col_trans = ColumnTransformer([\n",
    "    (\"sclal\",StandardScaler(),numerical_features),\n",
    "    (\"pol\",PolynomialFeatures(),numerical_features),\n",
    "    (\"one_hot_encoder\",OneHotEncoder(handle_unknown = 'ignore'),categorical_features)\n",
    "])"
   ]
  },
  {
   "cell_type": "markdown",
   "metadata": {},
   "source": [
    "# Separation en données d'entrainement et de test"
   ]
  },
  {
   "cell_type": "code",
   "execution_count": 8,
   "metadata": {},
   "outputs": [],
   "source": [
    "X_train, X_test, y_train, y_test = train_test_split(X, y, random_state=4, train_size = 0.8)"
   ]
  },
  {
   "cell_type": "markdown",
   "metadata": {},
   "source": [
    "# Modélisation"
   ]
  },
  {
   "cell_type": "markdown",
   "metadata": {},
   "source": [
    "## Algorithme de régression linéaire Ridge"
   ]
  },
  {
   "cell_type": "code",
   "execution_count": 9,
   "metadata": {},
   "outputs": [],
   "source": [
    "\n",
    "# modelRid = make_pipeline( my_col_trans,GridSearchCV(Ridge(),param_grid={'alpha': [0,0.01,0.05,0.1,1,10,100,300]},\n",
    "#                                  scoring='r2',\n",
    "#                                  refit=True))\n",
    "\n",
    "# for exp in range(2):\n",
    "#     affinage = modelRid.fit(X_train,y_train)[1].best_params_[\"alpha\"]\n",
    "#     liste_param = [param for param in np.linspace(affinage - (affinage/10**(exp+1)),affinage + (affinage/10**(exp+1)),20)]\n",
    "#     print(liste_param, 'best_alpha',affinage)\n",
    "#     modelRid = make_pipeline( my_col_trans,GridSearchCV(Ridge(),param_grid={'alpha': liste_param},\n",
    "#                                  scoring='r2',\n",
    "#                                  refit=True))\n",
    "\n",
    "# best_alpha = modelRid.fit(X_train,y_train)[1].best_params_[\"alpha\"]\n",
    "# best_alpha"
   ]
  },
  {
   "cell_type": "code",
   "execution_count": 10,
   "metadata": {},
   "outputs": [
    {
     "data": {
      "text/plain": [
       "0.8483262928671641"
      ]
     },
     "execution_count": 10,
     "metadata": {},
     "output_type": "execute_result"
    }
   ],
   "source": [
    "modelRid= make_pipeline(my_col_trans, Ridge(alpha=10))\n",
    "modelRid.fit(X_train,y_train)\n",
    "modelRid.score(X_train,y_train)"
   ]
  },
  {
   "cell_type": "code",
   "execution_count": 11,
   "metadata": {},
   "outputs": [
    {
     "data": {
      "text/plain": [
       "0.8282672966421042"
      ]
     },
     "execution_count": 11,
     "metadata": {},
     "output_type": "execute_result"
    }
   ],
   "source": [
    "modelRid.score(X_test,y_test)"
   ]
  },
  {
   "cell_type": "code",
   "execution_count": 12,
   "metadata": {},
   "outputs": [],
   "source": [
    "y_pred = modelRid.predict(X_train)"
   ]
  },
  {
   "cell_type": "code",
   "execution_count": 13,
   "metadata": {},
   "outputs": [
    {
     "name": "stdout",
     "output_type": "stream",
     "text": [
      "8944     3.299088e+00\n",
      "19230    1.346204e+01\n",
      "20098    1.684976e+01\n",
      "4465     1.729629e+01\n",
      "191      2.029608e+01\n",
      "             ...     \n",
      "656      1.398793e+06\n",
      "10446    1.580114e+06\n",
      "19017    1.660711e+06\n",
      "12777    1.779414e+06\n",
      "21050    1.986798e+06\n",
      "Name: price, Length: 17290, dtype: float64\n"
     ]
    }
   ],
   "source": [
    "rest = (y_pred - y_train).abs().sort_values()\n",
    "print(rest)"
   ]
  },
  {
   "cell_type": "code",
   "execution_count": 14,
   "metadata": {},
   "outputs": [],
   "source": [
    "to_drop = rest[rest > 950000].index"
   ]
  },
  {
   "cell_type": "code",
   "execution_count": 15,
   "metadata": {},
   "outputs": [],
   "source": [
    "X_train = X_train.drop(to_drop)\n",
    "y_train = y_train.drop(to_drop)"
   ]
  },
  {
   "cell_type": "code",
   "execution_count": 16,
   "metadata": {},
   "outputs": [
    {
     "data": {
      "text/plain": [
       "0.8609626684873751"
      ]
     },
     "execution_count": 16,
     "metadata": {},
     "output_type": "execute_result"
    }
   ],
   "source": [
    "modelRid= make_pipeline(my_col_trans, Ridge(alpha=10))\n",
    "modelRid.fit(X_train,y_train)\n",
    "modelRid.score(X_train,y_train)"
   ]
  },
  {
   "cell_type": "code",
   "execution_count": 17,
   "metadata": {},
   "outputs": [
    {
     "data": {
      "text/plain": [
       "0.8327378117657288"
      ]
     },
     "execution_count": 17,
     "metadata": {},
     "output_type": "execute_result"
    }
   ],
   "source": [
    "modelRid.score(X_test,y_test)"
   ]
  },
  {
   "cell_type": "code",
   "execution_count": 18,
   "metadata": {},
   "outputs": [
    {
     "data": {
      "image/png": "[encoded data removed]",
      "text/plain": [
       "<Figure size 432x288 with 1 Axes>"
      ]
     },
     "metadata": {
      "needs_background": "light"
     },
     "output_type": "display_data"
    }
   ],
   "source": [
    "\n",
    "train_sizes, train_scores, test_scores, fit_times, _ = learning_curve(modelRid,X_train,y_train, cv=15,return_times=True)\n",
    "                                           \n",
    "                                           \n",
    "plt.plot(train_sizes, train_scores.mean(axis=1), label='train')\n",
    "plt.plot(train_sizes, test_scores.mean(axis=1), label='validation')\n",
    "plt.xlabel('train_sizes')\n",
    "plt.legend()\n",
    "plt.show()"
   ]
  },
  {
   "cell_type": "markdown",
   "metadata": {},
   "source": [
    "# Export en csv"
   ]
  },
  {
   "cell_type": "code",
   "execution_count": 19,
   "metadata": {},
   "outputs": [],
   "source": [
    "X_train.to_csv('csv/X_train.csv',index=False)\n",
    "X_test.to_csv('csv/X_test.csv',index=False)\n",
    "y_train.to_csv('csv/y_train.csv',index=False)\n",
    "y_test.to_csv('csv/y_test.csv',index=False) "
   ]
  }
 ],
 "metadata": {
  "kernelspec": {
   "display_name": "Python 3.10.4 ('sdp')",
   "language": "python",
   "name": "python3"
  },
  "language_info": {
   "codemirror_mode": {
    "name": "ipython",
    "version": 3
   },
   "file_extension": ".py",
   "mimetype": "text/x-python",
   "name": "python",
   "nbconvert_exporter": "python",
   "pygments_lexer": "ipython3",
   "version": "3.10.4"
  },
  "orig_nbformat": 4,
  "vscode": {
   "interpreter": {
    "hash": "469afe5406be1ea4e852a1c357dde6a9cd024d419e8b8f25c7fc9ec9e36b640c"
   }
  }
 },
 "nbformat": 4,
 "nbformat_minor": 2
}
