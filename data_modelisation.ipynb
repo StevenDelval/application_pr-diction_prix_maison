{
 "cells": [
  {
   "cell_type": "code",
   "execution_count": 25,
   "metadata": {},
   "outputs": [],
   "source": [
    "import pandas as pd\n",
    "import numpy as np\n",
    "import matplotlib.pyplot as plt\n",
    "from sklearn.linear_model import LinearRegression, Ridge,Lasso,ElasticNet\n",
    "from sklearn.preprocessing import PolynomialFeatures\n",
    "from sklearn.pipeline import make_pipeline\n",
    "from sklearn.dummy import DummyRegressor\n",
    "from sklearn.model_selection import GridSearchCV,learning_curve\n"
   ]
  },
  {
   "cell_type": "code",
   "execution_count": 26,
   "metadata": {},
   "outputs": [],
   "source": [
    "X_train = pd.read_csv('csv/X_train.csv')\n",
    "X_test = pd.read_csv('csv/X_test.csv')\n",
    "y_train = pd.read_csv('csv/y_train.csv')\n",
    "y_test = pd.read_csv('csv/y_test.csv') "
   ]
  },
  {
   "cell_type": "markdown",
   "metadata": {},
   "source": [
    "# Algorithme de régression linéaire Ridge"
   ]
  },
  {
   "cell_type": "markdown",
   "metadata": {},
   "source": [
    "### Recherche du meilleur alpha"
   ]
  },
  {
   "cell_type": "code",
   "execution_count": 27,
   "metadata": {},
   "outputs": [
    {
     "data": {
      "text/plain": [
       "1109.90999999998"
      ]
     },
     "execution_count": 27,
     "metadata": {},
     "output_type": "execute_result"
    }
   ],
   "source": [
    "\n",
    "modelRid = make_pipeline( PolynomialFeatures(degree=2,interaction_only=False),GridSearchCV(Ridge(),param_grid={'alpha': [0,0.01,0.05,0.1,1,10,100,300,400,500,1000,10000]},\n",
    "                                 scoring='r2',\n",
    "                                 refit=True))\n",
    "\n",
    "for exp in range(2):\n",
    "    affinage = modelRid.fit(X_train,y_train)[1].best_params_[\"alpha\"]\n",
    "    liste_param = [param for param in np.arange(affinage - (affinage/10**(exp+1)),affinage + (affinage/10**(exp+1)), 10**(-exp))]\n",
    "    modelRid = make_pipeline( PolynomialFeatures(degree=2,interaction_only=False),GridSearchCV(Ridge(),param_grid={'alpha': liste_param},\n",
    "                                 scoring='r2',\n",
    "                                 refit=True))\n",
    "\n",
    "best_alpha = modelRid.fit(X_train,y_train)[1].best_params_[\"alpha\"]\n",
    "best_alpha\n"
   ]
  },
  {
   "cell_type": "code",
   "execution_count": 28,
   "metadata": {},
   "outputs": [],
   "source": [
    "# best_alpha=1109.90999999998"
   ]
  },
  {
   "cell_type": "markdown",
   "metadata": {},
   "source": [
    "# Utilisation du model Ridge"
   ]
  },
  {
   "cell_type": "code",
   "execution_count": 29,
   "metadata": {},
   "outputs": [],
   "source": [
    "modelRid = make_pipeline( PolynomialFeatures(degree=2),Ridge(alpha=best_alpha))"
   ]
  },
  {
   "cell_type": "markdown",
   "metadata": {},
   "source": [
    "## Courbe d'apprentissage"
   ]
  },
  {
   "cell_type": "code",
   "execution_count": 30,
   "metadata": {},
   "outputs": [],
   "source": [
    "# X = pd.concat([X_train,X_test])\n",
    "# y = pd.concat([y_train,y_test])\n",
    "# train_sizes, train_scores, test_scores, fit_times, _ = learning_curve(modelRid,X,y, cv=30,return_times=True)\n",
    "\n",
    "# plt.plot(train_sizes,np.mean(train_scores,axis=1),'r')\n",
    "\n",
    "# plt.show()\n"
   ]
  },
  {
   "cell_type": "markdown",
   "metadata": {},
   "source": [
    "## Prédiction"
   ]
  },
  {
   "cell_type": "code",
   "execution_count": 31,
   "metadata": {},
   "outputs": [
    {
     "data": {
      "text/plain": [
       "0.8632839633237167"
      ]
     },
     "execution_count": 31,
     "metadata": {},
     "output_type": "execute_result"
    }
   ],
   "source": [
    "modelRid.fit(X_train,y_train)\n",
    "modelRid.score(X_train,y_train)"
   ]
  },
  {
   "cell_type": "code",
   "execution_count": 32,
   "metadata": {},
   "outputs": [
    {
     "data": {
      "text/plain": [
       "0.8449631816176739"
      ]
     },
     "execution_count": 32,
     "metadata": {},
     "output_type": "execute_result"
    }
   ],
   "source": [
    "modelRid.score(X_test,y_test)"
   ]
  },
  {
   "cell_type": "code",
   "execution_count": 33,
   "metadata": {},
   "outputs": [],
   "source": [
    "y_prediction = modelRid.predict(X_test)\n",
    "df_prediction = pd.DataFrame(y_prediction,columns=[\"prediction\"])"
   ]
  },
  {
   "cell_type": "code",
   "execution_count": 34,
   "metadata": {},
   "outputs": [],
   "source": [
    "df_prediction[\"resultat\"] = y_test['price']"
   ]
  },
  {
   "cell_type": "code",
   "execution_count": 35,
   "metadata": {},
   "outputs": [],
   "source": [
    "df_prediction[\"diff\"]= ((df_prediction[\"resultat\"] - df_prediction[\"prediction\"])**2)**(1/2)"
   ]
  },
  {
   "cell_type": "code",
   "execution_count": 36,
   "metadata": {},
   "outputs": [
    {
     "data": {
      "text/html": [
       "<div>\n",
       "<style scoped>\n",
       "    .dataframe tbody tr th:only-of-type {\n",
       "        vertical-align: middle;\n",
       "    }\n",
       "\n",
       "    .dataframe tbody tr th {\n",
       "        vertical-align: top;\n",
       "    }\n",
       "\n",
       "    .dataframe thead th {\n",
       "        text-align: right;\n",
       "    }\n",
       "</style>\n",
       "<table border=\"1\" class=\"dataframe\">\n",
       "  <thead>\n",
       "    <tr style=\"text-align: right;\">\n",
       "      <th></th>\n",
       "      <th>prediction</th>\n",
       "      <th>resultat</th>\n",
       "      <th>diff</th>\n",
       "    </tr>\n",
       "  </thead>\n",
       "  <tbody>\n",
       "    <tr>\n",
       "      <th>count</th>\n",
       "      <td>4.320000e+03</td>\n",
       "      <td>4.320000e+03</td>\n",
       "      <td>4.320000e+03</td>\n",
       "    </tr>\n",
       "    <tr>\n",
       "      <th>mean</th>\n",
       "      <td>5.375890e+05</td>\n",
       "      <td>5.416757e+05</td>\n",
       "      <td>9.226024e+04</td>\n",
       "    </tr>\n",
       "    <tr>\n",
       "      <th>std</th>\n",
       "      <td>3.269288e+05</td>\n",
       "      <td>3.639041e+05</td>\n",
       "      <td>1.096221e+05</td>\n",
       "    </tr>\n",
       "    <tr>\n",
       "      <th>min</th>\n",
       "      <td>4.549344e+04</td>\n",
       "      <td>8.400000e+04</td>\n",
       "      <td>1.447045e+00</td>\n",
       "    </tr>\n",
       "    <tr>\n",
       "      <th>25%</th>\n",
       "      <td>3.543493e+05</td>\n",
       "      <td>3.250000e+05</td>\n",
       "      <td>2.981932e+04</td>\n",
       "    </tr>\n",
       "    <tr>\n",
       "      <th>50%</th>\n",
       "      <td>4.583773e+05</td>\n",
       "      <td>4.550000e+05</td>\n",
       "      <td>6.402453e+04</td>\n",
       "    </tr>\n",
       "    <tr>\n",
       "      <th>75%</th>\n",
       "      <td>6.219810e+05</td>\n",
       "      <td>6.513250e+05</td>\n",
       "      <td>1.156670e+05</td>\n",
       "    </tr>\n",
       "    <tr>\n",
       "      <th>max</th>\n",
       "      <td>5.363575e+06</td>\n",
       "      <td>7.700000e+06</td>\n",
       "      <td>2.336425e+06</td>\n",
       "    </tr>\n",
       "  </tbody>\n",
       "</table>\n",
       "</div>"
      ],
      "text/plain": [
       "         prediction      resultat          diff\n",
       "count  4.320000e+03  4.320000e+03  4.320000e+03\n",
       "mean   5.375890e+05  5.416757e+05  9.226024e+04\n",
       "std    3.269288e+05  3.639041e+05  1.096221e+05\n",
       "min    4.549344e+04  8.400000e+04  1.447045e+00\n",
       "25%    3.543493e+05  3.250000e+05  2.981932e+04\n",
       "50%    4.583773e+05  4.550000e+05  6.402453e+04\n",
       "75%    6.219810e+05  6.513250e+05  1.156670e+05\n",
       "max    5.363575e+06  7.700000e+06  2.336425e+06"
      ]
     },
     "execution_count": 36,
     "metadata": {},
     "output_type": "execute_result"
    }
   ],
   "source": [
    "df_prediction.describe()"
   ]
  },
  {
   "cell_type": "code",
   "execution_count": 37,
   "metadata": {},
   "outputs": [
    {
     "data": {
      "text/html": [
       "<div>\n",
       "<style scoped>\n",
       "    .dataframe tbody tr th:only-of-type {\n",
       "        vertical-align: middle;\n",
       "    }\n",
       "\n",
       "    .dataframe tbody tr th {\n",
       "        vertical-align: top;\n",
       "    }\n",
       "\n",
       "    .dataframe thead th {\n",
       "        text-align: right;\n",
       "    }\n",
       "</style>\n",
       "<table border=\"1\" class=\"dataframe\">\n",
       "  <thead>\n",
       "    <tr style=\"text-align: right;\">\n",
       "      <th></th>\n",
       "      <th>prediction</th>\n",
       "      <th>resultat</th>\n",
       "      <th>diff</th>\n",
       "    </tr>\n",
       "  </thead>\n",
       "  <tbody>\n",
       "    <tr>\n",
       "      <th>0</th>\n",
       "      <td>3.386592e+05</td>\n",
       "      <td>338900.0</td>\n",
       "      <td>240.763990</td>\n",
       "    </tr>\n",
       "    <tr>\n",
       "      <th>1</th>\n",
       "      <td>4.385706e+05</td>\n",
       "      <td>543000.0</td>\n",
       "      <td>104429.376796</td>\n",
       "    </tr>\n",
       "    <tr>\n",
       "      <th>2</th>\n",
       "      <td>4.902482e+05</td>\n",
       "      <td>565000.0</td>\n",
       "      <td>74751.845608</td>\n",
       "    </tr>\n",
       "    <tr>\n",
       "      <th>3</th>\n",
       "      <td>1.232500e+06</td>\n",
       "      <td>880000.0</td>\n",
       "      <td>352500.389527</td>\n",
       "    </tr>\n",
       "    <tr>\n",
       "      <th>4</th>\n",
       "      <td>5.730274e+05</td>\n",
       "      <td>562000.0</td>\n",
       "      <td>11027.422898</td>\n",
       "    </tr>\n",
       "    <tr>\n",
       "      <th>...</th>\n",
       "      <td>...</td>\n",
       "      <td>...</td>\n",
       "      <td>...</td>\n",
       "    </tr>\n",
       "    <tr>\n",
       "      <th>4315</th>\n",
       "      <td>5.714627e+05</td>\n",
       "      <td>677900.0</td>\n",
       "      <td>106437.292984</td>\n",
       "    </tr>\n",
       "    <tr>\n",
       "      <th>4316</th>\n",
       "      <td>1.778800e+05</td>\n",
       "      <td>192950.0</td>\n",
       "      <td>15069.973109</td>\n",
       "    </tr>\n",
       "    <tr>\n",
       "      <th>4317</th>\n",
       "      <td>2.214689e+05</td>\n",
       "      <td>330000.0</td>\n",
       "      <td>108531.144843</td>\n",
       "    </tr>\n",
       "    <tr>\n",
       "      <th>4318</th>\n",
       "      <td>4.150892e+05</td>\n",
       "      <td>379900.0</td>\n",
       "      <td>35189.238884</td>\n",
       "    </tr>\n",
       "    <tr>\n",
       "      <th>4319</th>\n",
       "      <td>4.090304e+05</td>\n",
       "      <td>443000.0</td>\n",
       "      <td>33969.624042</td>\n",
       "    </tr>\n",
       "  </tbody>\n",
       "</table>\n",
       "<p>4320 rows × 3 columns</p>\n",
       "</div>"
      ],
      "text/plain": [
       "        prediction  resultat           diff\n",
       "0     3.386592e+05  338900.0     240.763990\n",
       "1     4.385706e+05  543000.0  104429.376796\n",
       "2     4.902482e+05  565000.0   74751.845608\n",
       "3     1.232500e+06  880000.0  352500.389527\n",
       "4     5.730274e+05  562000.0   11027.422898\n",
       "...            ...       ...            ...\n",
       "4315  5.714627e+05  677900.0  106437.292984\n",
       "4316  1.778800e+05  192950.0   15069.973109\n",
       "4317  2.214689e+05  330000.0  108531.144843\n",
       "4318  4.150892e+05  379900.0   35189.238884\n",
       "4319  4.090304e+05  443000.0   33969.624042\n",
       "\n",
       "[4320 rows x 3 columns]"
      ]
     },
     "execution_count": 37,
     "metadata": {},
     "output_type": "execute_result"
    }
   ],
   "source": [
    "df_prediction"
   ]
  },
  {
   "cell_type": "code",
   "execution_count": 38,
   "metadata": {},
   "outputs": [],
   "source": [
    "# modelLasso = make_pipeline( PolynomialFeatures(2),GridSearchCV(Lasso(),param_grid={'alpha': [0.0001,0.001,0.01,0.05,0.1,0.5,1],\"tol\":[0.0001,0.001,0.01,0.05,0.1,0.5,1]},\n",
    "#                                                                 cv=2,refit=True))\n",
    "# modelLasso.fit(X_train,y_train)"
   ]
  },
  {
   "cell_type": "code",
   "execution_count": 39,
   "metadata": {},
   "outputs": [],
   "source": [
    "# modelLasso.score(X_test,y_test)"
   ]
  },
  {
   "cell_type": "code",
   "execution_count": 40,
   "metadata": {},
   "outputs": [],
   "source": [
    "# prediction = modelLasso.predict(X_test)\n",
    "# prediction"
   ]
  },
  {
   "cell_type": "code",
   "execution_count": 41,
   "metadata": {},
   "outputs": [],
   "source": [
    "# modelEN = make_pipeline( PolynomialFeatures(2),GridSearchCV(ElasticNet(),param_grid={'alpha': [0.0001,0.001,0.01,0.05,0.1,0.5,1],\"tol\":[0.0001,0.001,0.01,0.05,0.1,0.5,1]},\n",
    "#                                                                 cv=2,refit=True))\n",
    "# modelEN.fit(X_train,y_train)\n",
    "# print(\"\")"
   ]
  },
  {
   "cell_type": "code",
   "execution_count": 42,
   "metadata": {},
   "outputs": [],
   "source": [
    "# modelEN.score(X_test,y_test)"
   ]
  },
  {
   "cell_type": "code",
   "execution_count": 43,
   "metadata": {},
   "outputs": [],
   "source": [
    "# prediction = modelEN.predict(X_test)\n",
    "# prediction"
   ]
  },
  {
   "cell_type": "markdown",
   "metadata": {},
   "source": [
    "# LinearRegression"
   ]
  },
  {
   "cell_type": "code",
   "execution_count": 44,
   "metadata": {},
   "outputs": [
    {
     "data": {
      "text/plain": [
       "Pipeline(steps=[('polynomialfeatures', PolynomialFeatures(degree=1)),\n",
       "                ('linearregression', LinearRegression())])"
      ]
     },
     "execution_count": 44,
     "metadata": {},
     "output_type": "execute_result"
    }
   ],
   "source": [
    "modelLR = make_pipeline( PolynomialFeatures(1),LinearRegression())\n",
    "modelLR.fit(X_train,y_train)"
   ]
  },
  {
   "cell_type": "code",
   "execution_count": 45,
   "metadata": {},
   "outputs": [
    {
     "data": {
      "text/plain": [
       "0.7798584064022618"
      ]
     },
     "execution_count": 45,
     "metadata": {},
     "output_type": "execute_result"
    }
   ],
   "source": [
    "modelLR.score(X_test,y_test)"
   ]
  },
  {
   "cell_type": "code",
   "execution_count": 46,
   "metadata": {},
   "outputs": [
    {
     "data": {
      "text/plain": [
       "array([[205908.7705559 ],\n",
       "       [435973.10619321],\n",
       "       [483549.11303339],\n",
       "       ...,\n",
       "       [201365.3557494 ],\n",
       "       [470367.89682547],\n",
       "       [445531.55070209]])"
      ]
     },
     "execution_count": 46,
     "metadata": {},
     "output_type": "execute_result"
    }
   ],
   "source": [
    "y_lr_prediction = modelLR.predict(X_test)\n",
    "y_lr_prediction"
   ]
  },
  {
   "cell_type": "markdown",
   "metadata": {},
   "source": [
    "# Methode naif"
   ]
  },
  {
   "cell_type": "code",
   "execution_count": 47,
   "metadata": {},
   "outputs": [
    {
     "data": {
      "text/plain": [
       "-2.5762973467680084e-05"
      ]
     },
     "execution_count": 47,
     "metadata": {},
     "output_type": "execute_result"
    }
   ],
   "source": [
    "modelDummy = DummyRegressor()\n",
    "modelDummy.fit(X_train,y_train)\n",
    "modelDummy.score(X_test,y_test)"
   ]
  },
  {
   "cell_type": "code",
   "execution_count": 48,
   "metadata": {},
   "outputs": [
    {
     "data": {
      "text/plain": [
       "array([539828.85766381, 539828.85766381, 539828.85766381, ...,\n",
       "       539828.85766381, 539828.85766381, 539828.85766381])"
      ]
     },
     "execution_count": 48,
     "metadata": {},
     "output_type": "execute_result"
    }
   ],
   "source": [
    "prediction = modelDummy.predict(X_test)\n",
    "prediction"
   ]
  }
 ],
 "metadata": {
  "kernelspec": {
   "display_name": "Python 3.10.4 ('sdp')",
   "language": "python",
   "name": "python3"
  },
  "language_info": {
   "codemirror_mode": {
    "name": "ipython",
    "version": 3
   },
   "file_extension": ".py",
   "mimetype": "text/x-python",
   "name": "python",
   "nbconvert_exporter": "python",
   "pygments_lexer": "ipython3",
   "version": "3.10.4"
  },
  "orig_nbformat": 4,
  "vscode": {
   "interpreter": {
    "hash": "469afe5406be1ea4e852a1c357dde6a9cd024d419e8b8f25c7fc9ec9e36b640c"
   }
  }
 },
 "nbformat": 4,
 "nbformat_minor": 2
}
